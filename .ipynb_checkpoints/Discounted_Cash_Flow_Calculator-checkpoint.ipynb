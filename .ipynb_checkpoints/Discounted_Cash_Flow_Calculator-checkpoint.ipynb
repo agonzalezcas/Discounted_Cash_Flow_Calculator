{
 "cells": [
  {
   "cell_type": "code",
   "execution_count": 56,
   "metadata": {},
   "outputs": [],
   "source": [
    "import requests\n",
    "import pandas as pd\n",
    "import numpy as np"
   ]
  },
  {
   "cell_type": "code",
   "execution_count": 152,
   "metadata": {},
   "outputs": [],
   "source": [
    "company = 'WMT'\n",
    "api_key = '6032af0c940166a822afd34fc3259c71'"
   ]
  },
  {
   "cell_type": "code",
   "execution_count": 153,
   "metadata": {},
   "outputs": [],
   "source": [
    "\n",
    "# Gets the Income Statement data that we need\n",
    "income_state = requests.get(f'https://financialmodelingprep.com/api/v3/income-statement/{company}?apikey={api_key}').json()\n",
    "revenue = {}\n",
    "interest_expense = {}\n",
    "income_before_tax = {}\n",
    "income_tax_expense = {}\n",
    "net_income = {}\n",
    "count = 0\n",
    "for item in income_state:\n",
    "\n",
    "    if count < 10:\n",
    "        revenue[item['date']] = item['revenue']\n",
    "        interest_expense[item['date']] = item['interestExpense']\n",
    "        income_before_tax[item['date']] = item['incomeBeforeTax']\n",
    "        income_tax_expense[item['date']] = item['incomeTaxExpense']\n",
    "        net_income[item['date']]= item['netIncome']\n",
    "        count += 1\n",
    "# Get the Cash Flow Statement that we need\n",
    "\n",
    "cash_flow = requests.get(f'https://financialmodelingprep.com/api/v3/cash-flow-statement/{company}?apikey={api_key}').json()\n",
    "\n",
    "cf_from_operating_activities = {}\n",
    "capital_expenditures = {}\n",
    "free_cash_flow = {}\n",
    "count = 0\n",
    "for item in cash_flow:\n",
    "    if count < 10:\n",
    "        cf_from_operating_activities[item['date']] = item['operatingCashFlow']\n",
    "        capital_expenditures[item['date']] = item['capitalExpenditure']\n",
    "        free_cash_flow[item['date']] = item['freeCashFlow']\n",
    "        count += 1\n",
    "\n",
    "# Gets the Balance Sheet Statement Data we need\n",
    "\n",
    "balance_sheet  = requests.get(f'https://financialmodelingprep.com/api/v3/balance-sheet-statement/{company}?apikey={api_key}').json()\n",
    "\n",
    "short_term_debt = {}\n",
    "long_term_debt = {}\n",
    "cash_and_short_term_invest = {}\n",
    "count = 0\n",
    "for item in balance_sheet:\n",
    "    if count < 10:\n",
    "        short_term_debt[item['date']] = item['totalCurrentLiabilities']\n",
    "        long_term_debt[item['date']] = item['longTermDebt']\n",
    "        cash_and_short_term_invest[item['date']] = item['cashAndShortTermInvestments']\n",
    "        count += 1"
   ]
  },
  {
   "cell_type": "markdown",
   "metadata": {},
   "source": [
    "# Income statement (IS) data frame"
   ]
  },
  {
   "cell_type": "code",
   "execution_count": 175,
   "metadata": {},
   "outputs": [],
   "source": [
    "# Dictionary that will hold all of the income statement data for display to a df\n",
    "income_statement = {}\n",
    "\n",
    "income_statement['revenue'],income_statement['interest_expense'],income_statement['income_before_tax'],income_statement['income_tax_expense'],income_statement['net_income'] = revenue, interest_expense,income_before_tax, income_tax_expense, net_income "
   ]
  },
  {
   "cell_type": "code",
   "execution_count": 201,
   "metadata": {},
   "outputs": [
    {
     "data": {
      "text/html": [
       "<div>\n",
       "<style scoped>\n",
       "    .dataframe tbody tr th:only-of-type {\n",
       "        vertical-align: middle;\n",
       "    }\n",
       "\n",
       "    .dataframe tbody tr th {\n",
       "        vertical-align: top;\n",
       "    }\n",
       "\n",
       "    .dataframe thead th {\n",
       "        text-align: right;\n",
       "    }\n",
       "</style>\n",
       "<table border=\"1\" class=\"dataframe\">\n",
       "  <thead>\n",
       "    <tr style=\"text-align: right;\">\n",
       "      <th></th>\n",
       "      <th>revenue</th>\n",
       "      <th>interest_expense</th>\n",
       "      <th>income_before_tax</th>\n",
       "      <th>income_tax_expense</th>\n",
       "      <th>net_income</th>\n",
       "    </tr>\n",
       "  </thead>\n",
       "  <tbody>\n",
       "    <tr>\n",
       "      <th>2011-01-31</th>\n",
       "      <td>421849000000</td>\n",
       "      <td>2205000000</td>\n",
       "      <td>23538000000</td>\n",
       "      <td>-7579000000</td>\n",
       "      <td>16389000000</td>\n",
       "    </tr>\n",
       "    <tr>\n",
       "      <th>2012-01-31</th>\n",
       "      <td>446950000000</td>\n",
       "      <td>2322000000</td>\n",
       "      <td>24398000000</td>\n",
       "      <td>7944000000</td>\n",
       "      <td>15699000000</td>\n",
       "    </tr>\n",
       "    <tr>\n",
       "      <th>2013-01-31</th>\n",
       "      <td>469162000000</td>\n",
       "      <td>-2064000000</td>\n",
       "      <td>25737000000</td>\n",
       "      <td>7981000000</td>\n",
       "      <td>16999000000</td>\n",
       "    </tr>\n",
       "    <tr>\n",
       "      <th>2014-01-31</th>\n",
       "      <td>476294000000</td>\n",
       "      <td>-2216000000</td>\n",
       "      <td>24656000000</td>\n",
       "      <td>8105000000</td>\n",
       "      <td>16022000000</td>\n",
       "    </tr>\n",
       "    <tr>\n",
       "      <th>2015-01-31</th>\n",
       "      <td>485651000000</td>\n",
       "      <td>2461000000</td>\n",
       "      <td>24799000000</td>\n",
       "      <td>7985000000</td>\n",
       "      <td>16363000000</td>\n",
       "    </tr>\n",
       "    <tr>\n",
       "      <th>2016-01-31</th>\n",
       "      <td>482130000000</td>\n",
       "      <td>2548000000</td>\n",
       "      <td>21638000000</td>\n",
       "      <td>6558000000</td>\n",
       "      <td>14694000000</td>\n",
       "    </tr>\n",
       "    <tr>\n",
       "      <th>2017-01-31</th>\n",
       "      <td>485873000000</td>\n",
       "      <td>2367000000</td>\n",
       "      <td>20497000000</td>\n",
       "      <td>6204000000</td>\n",
       "      <td>13643000000</td>\n",
       "    </tr>\n",
       "    <tr>\n",
       "      <th>2018-01-31</th>\n",
       "      <td>500343000000</td>\n",
       "      <td>2330000000</td>\n",
       "      <td>15123000000</td>\n",
       "      <td>4600000000</td>\n",
       "      <td>9862000000</td>\n",
       "    </tr>\n",
       "    <tr>\n",
       "      <th>2019-01-31</th>\n",
       "      <td>514405000000</td>\n",
       "      <td>2346000000</td>\n",
       "      <td>11460000000</td>\n",
       "      <td>4281000000</td>\n",
       "      <td>6670000000</td>\n",
       "    </tr>\n",
       "    <tr>\n",
       "      <th>2020-01-31</th>\n",
       "      <td>523964000000</td>\n",
       "      <td>2599000000</td>\n",
       "      <td>20116000000</td>\n",
       "      <td>4915000000</td>\n",
       "      <td>14881000000</td>\n",
       "    </tr>\n",
       "  </tbody>\n",
       "</table>\n",
       "</div>"
      ],
      "text/plain": [
       "                 revenue  interest_expense  income_before_tax  \\\n",
       "2011-01-31  421849000000        2205000000        23538000000   \n",
       "2012-01-31  446950000000        2322000000        24398000000   \n",
       "2013-01-31  469162000000       -2064000000        25737000000   \n",
       "2014-01-31  476294000000       -2216000000        24656000000   \n",
       "2015-01-31  485651000000        2461000000        24799000000   \n",
       "2016-01-31  482130000000        2548000000        21638000000   \n",
       "2017-01-31  485873000000        2367000000        20497000000   \n",
       "2018-01-31  500343000000        2330000000        15123000000   \n",
       "2019-01-31  514405000000        2346000000        11460000000   \n",
       "2020-01-31  523964000000        2599000000        20116000000   \n",
       "\n",
       "            income_tax_expense   net_income  \n",
       "2011-01-31         -7579000000  16389000000  \n",
       "2012-01-31          7944000000  15699000000  \n",
       "2013-01-31          7981000000  16999000000  \n",
       "2014-01-31          8105000000  16022000000  \n",
       "2015-01-31          7985000000  16363000000  \n",
       "2016-01-31          6558000000  14694000000  \n",
       "2017-01-31          6204000000  13643000000  \n",
       "2018-01-31          4600000000   9862000000  \n",
       "2019-01-31          4281000000   6670000000  \n",
       "2020-01-31          4915000000  14881000000  "
      ]
     },
     "execution_count": 201,
     "metadata": {},
     "output_type": "execute_result"
    }
   ],
   "source": [
    "# \n",
    "is_df = pd.DataFrame.from_dict(income_statement,orient='index').T\n",
    "\n",
    "is_df.sort_index(inplace= True)\n",
    "is_df\n"
   ]
  },
  {
   "cell_type": "markdown",
   "metadata": {},
   "source": [
    "# Cash Flow statement (CF) data frame"
   ]
  },
  {
   "cell_type": "code",
   "execution_count": 177,
   "metadata": {},
   "outputs": [],
   "source": [
    "cash_flow_state = {}\n",
    "\n",
    "cash_flow_state[\"cfo\"],cash_flow_state[\"capex\"],cash_flow_state[\"free_cash_flow\"] = cf_from_operating_activities, capital_expenditures,free_cash_flow \n"
   ]
  },
  {
   "cell_type": "code",
   "execution_count": 204,
   "metadata": {},
   "outputs": [
    {
     "data": {
      "text/html": [
       "<div>\n",
       "<style scoped>\n",
       "    .dataframe tbody tr th:only-of-type {\n",
       "        vertical-align: middle;\n",
       "    }\n",
       "\n",
       "    .dataframe tbody tr th {\n",
       "        vertical-align: top;\n",
       "    }\n",
       "\n",
       "    .dataframe thead th {\n",
       "        text-align: right;\n",
       "    }\n",
       "</style>\n",
       "<table border=\"1\" class=\"dataframe\">\n",
       "  <thead>\n",
       "    <tr style=\"text-align: right;\">\n",
       "      <th></th>\n",
       "      <th>cfo</th>\n",
       "      <th>capex</th>\n",
       "      <th>free_cash_flow</th>\n",
       "    </tr>\n",
       "  </thead>\n",
       "  <tbody>\n",
       "    <tr>\n",
       "      <th>2011-01-31</th>\n",
       "      <td>23643000000</td>\n",
       "      <td>-12699000000</td>\n",
       "      <td>10944000000</td>\n",
       "    </tr>\n",
       "    <tr>\n",
       "      <th>2012-01-31</th>\n",
       "      <td>24255000000</td>\n",
       "      <td>-13510000000</td>\n",
       "      <td>10745000000</td>\n",
       "    </tr>\n",
       "    <tr>\n",
       "      <th>2013-01-31</th>\n",
       "      <td>25591000000</td>\n",
       "      <td>-12898000000</td>\n",
       "      <td>12693000000</td>\n",
       "    </tr>\n",
       "    <tr>\n",
       "      <th>2014-01-31</th>\n",
       "      <td>23257000000</td>\n",
       "      <td>-13115000000</td>\n",
       "      <td>10142000000</td>\n",
       "    </tr>\n",
       "    <tr>\n",
       "      <th>2015-01-31</th>\n",
       "      <td>28564000000</td>\n",
       "      <td>-12174000000</td>\n",
       "      <td>16390000000</td>\n",
       "    </tr>\n",
       "    <tr>\n",
       "      <th>2016-01-31</th>\n",
       "      <td>27552000000</td>\n",
       "      <td>-11477000000</td>\n",
       "      <td>16075000000</td>\n",
       "    </tr>\n",
       "    <tr>\n",
       "      <th>2017-01-31</th>\n",
       "      <td>31673000000</td>\n",
       "      <td>-10619000000</td>\n",
       "      <td>21054000000</td>\n",
       "    </tr>\n",
       "    <tr>\n",
       "      <th>2018-01-31</th>\n",
       "      <td>28337000000</td>\n",
       "      <td>-10051000000</td>\n",
       "      <td>18286000000</td>\n",
       "    </tr>\n",
       "    <tr>\n",
       "      <th>2019-01-31</th>\n",
       "      <td>27753000000</td>\n",
       "      <td>-10344000000</td>\n",
       "      <td>17409000000</td>\n",
       "    </tr>\n",
       "    <tr>\n",
       "      <th>2020-01-31</th>\n",
       "      <td>25255000000</td>\n",
       "      <td>-10705000000</td>\n",
       "      <td>14550000000</td>\n",
       "    </tr>\n",
       "  </tbody>\n",
       "</table>\n",
       "</div>"
      ],
      "text/plain": [
       "                    cfo        capex  free_cash_flow\n",
       "2011-01-31  23643000000 -12699000000     10944000000\n",
       "2012-01-31  24255000000 -13510000000     10745000000\n",
       "2013-01-31  25591000000 -12898000000     12693000000\n",
       "2014-01-31  23257000000 -13115000000     10142000000\n",
       "2015-01-31  28564000000 -12174000000     16390000000\n",
       "2016-01-31  27552000000 -11477000000     16075000000\n",
       "2017-01-31  31673000000 -10619000000     21054000000\n",
       "2018-01-31  28337000000 -10051000000     18286000000\n",
       "2019-01-31  27753000000 -10344000000     17409000000\n",
       "2020-01-31  25255000000 -10705000000     14550000000"
      ]
     },
     "execution_count": 204,
     "metadata": {},
     "output_type": "execute_result"
    }
   ],
   "source": [
    "cf_df = pd.DataFrame.from_dict(cash_flow_state,orient='index').T\n",
    "\n",
    "cf_df.sort_index(inplace = True)\n",
    "cf_df"
   ]
  },
  {
   "cell_type": "markdown",
   "metadata": {},
   "source": [
    "# Balance Sheet Statement (BS) data frame(df)"
   ]
  },
  {
   "cell_type": "code",
   "execution_count": 179,
   "metadata": {},
   "outputs": [],
   "source": [
    "balance_sheet_state = {}\n",
    "\n",
    "balance_sheet_state[\"short_term_debt\"],balance_sheet_state[\"long_term_debt\"],balance_sheet_state[\"cash_and_sti\"] = short_term_debt,long_term_debt,cash_and_short_term_invest"
   ]
  },
  {
   "cell_type": "code",
   "execution_count": 205,
   "metadata": {},
   "outputs": [
    {
     "data": {
      "text/html": [
       "<div>\n",
       "<style scoped>\n",
       "    .dataframe tbody tr th:only-of-type {\n",
       "        vertical-align: middle;\n",
       "    }\n",
       "\n",
       "    .dataframe tbody tr th {\n",
       "        vertical-align: top;\n",
       "    }\n",
       "\n",
       "    .dataframe thead th {\n",
       "        text-align: right;\n",
       "    }\n",
       "</style>\n",
       "<table border=\"1\" class=\"dataframe\">\n",
       "  <thead>\n",
       "    <tr style=\"text-align: right;\">\n",
       "      <th></th>\n",
       "      <th>short_term_debt</th>\n",
       "      <th>long_term_debt</th>\n",
       "      <th>cash_and_sti</th>\n",
       "    </tr>\n",
       "  </thead>\n",
       "  <tbody>\n",
       "    <tr>\n",
       "      <th>2011-01-31</th>\n",
       "      <td>58484000000</td>\n",
       "      <td>43842000000</td>\n",
       "      <td>7395000000</td>\n",
       "    </tr>\n",
       "    <tr>\n",
       "      <th>2012-01-31</th>\n",
       "      <td>62300000000</td>\n",
       "      <td>47079000000</td>\n",
       "      <td>6003000000</td>\n",
       "    </tr>\n",
       "    <tr>\n",
       "      <th>2013-01-31</th>\n",
       "      <td>71818000000</td>\n",
       "      <td>41417000000</td>\n",
       "      <td>7066000000</td>\n",
       "    </tr>\n",
       "    <tr>\n",
       "      <th>2014-01-31</th>\n",
       "      <td>69345000000</td>\n",
       "      <td>44559000000</td>\n",
       "      <td>6627000000</td>\n",
       "    </tr>\n",
       "    <tr>\n",
       "      <th>2015-01-31</th>\n",
       "      <td>65253000000</td>\n",
       "      <td>43495000000</td>\n",
       "      <td>9135000000</td>\n",
       "    </tr>\n",
       "    <tr>\n",
       "      <th>2016-01-31</th>\n",
       "      <td>64619000000</td>\n",
       "      <td>44030000000</td>\n",
       "      <td>8343000000</td>\n",
       "    </tr>\n",
       "    <tr>\n",
       "      <th>2017-01-31</th>\n",
       "      <td>66928000000</td>\n",
       "      <td>38809000000</td>\n",
       "      <td>6602000000</td>\n",
       "    </tr>\n",
       "    <tr>\n",
       "      <th>2018-01-31</th>\n",
       "      <td>78521000000</td>\n",
       "      <td>32784000000</td>\n",
       "      <td>6456000000</td>\n",
       "    </tr>\n",
       "    <tr>\n",
       "      <th>2019-01-31</th>\n",
       "      <td>77477000000</td>\n",
       "      <td>46340000000</td>\n",
       "      <td>7722000000</td>\n",
       "    </tr>\n",
       "    <tr>\n",
       "      <th>2020-01-31</th>\n",
       "      <td>77790000000</td>\n",
       "      <td>48021000000</td>\n",
       "      <td>9465000000</td>\n",
       "    </tr>\n",
       "  </tbody>\n",
       "</table>\n",
       "</div>"
      ],
      "text/plain": [
       "            short_term_debt  long_term_debt  cash_and_sti\n",
       "2011-01-31      58484000000     43842000000    7395000000\n",
       "2012-01-31      62300000000     47079000000    6003000000\n",
       "2013-01-31      71818000000     41417000000    7066000000\n",
       "2014-01-31      69345000000     44559000000    6627000000\n",
       "2015-01-31      65253000000     43495000000    9135000000\n",
       "2016-01-31      64619000000     44030000000    8343000000\n",
       "2017-01-31      66928000000     38809000000    6602000000\n",
       "2018-01-31      78521000000     32784000000    6456000000\n",
       "2019-01-31      77477000000     46340000000    7722000000\n",
       "2020-01-31      77790000000     48021000000    9465000000"
      ]
     },
     "execution_count": 205,
     "metadata": {},
     "output_type": "execute_result"
    }
   ],
   "source": [
    "bs_df = pd.DataFrame.from_dict(balance_sheet_state,orient='index').T\n",
    "\n",
    "bs_df.sort_index(inplace= True)\n",
    "\n",
    "bs_df"
   ]
  },
  {
   "cell_type": "code",
   "execution_count": 289,
   "metadata": {},
   "outputs": [
    {
     "data": {
      "text/plain": [
       "1.1812731679082584"
      ]
     },
     "execution_count": 289,
     "metadata": {},
     "output_type": "execute_result"
    }
   ],
   "source": [
    "# Calculates free cash flow to profit margin\n",
    "\n",
    "# Takes the free cash flow for every year and divides it by the net income.\n",
    "fcf_to_net_income_margin = (cf_df.free_cash_flow/is_df.net_income).mean()\n",
    "fcf_to_net_income_margin"
   ]
  },
  {
   "cell_type": "markdown",
   "metadata": {},
   "source": [
    "# Plot that will be returned for users."
   ]
  },
  {
   "cell_type": "code",
   "execution_count": 300,
   "metadata": {},
   "outputs": [
    {
     "data": {
      "image/png": "[encoded data removed]",
      "text/plain": [
       "<Figure size 432x288 with 1 Axes>"
      ]
     },
     "metadata": {
      "needs_background": "light"
     },
     "output_type": "display_data"
    }
   ],
   "source": [
    "revenue_chart = is_df.revenue.plot.bar()"
   ]
  },
  {
   "cell_type": "code",
   "execution_count": 294,
   "metadata": {},
   "outputs": [
    {
     "data": {
      "image/png": "[encoded data removed]",
      "text/plain": [
       "<Figure size 432x288 with 1 Axes>"
      ]
     },
     "metadata": {
      "needs_background": "light"
     },
     "output_type": "display_data"
    }
   ],
   "source": [
    "net_income_chart = is_df.net_income.plot.bar()\n"
   ]
  },
  {
   "cell_type": "code",
   "execution_count": 297,
   "metadata": {},
   "outputs": [
    {
     "data": {
      "image/png": "[encoded data removed]",
      "text/plain": [
       "<Figure size 432x288 with 1 Axes>"
      ]
     },
     "metadata": {
      "needs_background": "light"
     },
     "output_type": "display_data"
    }
   ],
   "source": [
    "fcf_chart = cf_df.free_cash_flow.plot.bar()"
   ]
  },
  {
   "cell_type": "code",
   "execution_count": 302,
   "metadata": {},
   "outputs": [
    {
     "data": {
      "image/png": "[encoded data removed]",
      "text/plain": [
       "<Figure size 432x288 with 1 Axes>"
      ]
     },
     "metadata": {
      "needs_background": "light"
     },
     "output_type": "display_data"
    }
   ],
   "source": [
    "revenue_to_net_income_to_fcf_df = pd.DataFrame({'Revenue':is_df.revenue,\"Net Income\":is_df.net_income,\"Free Cash Flow\":cf_df.free_cash_flow})\n",
    "r_to_ni_fcf_chart = revenue_to_net_income_to_fcf_df.plot.bar()"
   ]
  },
  {
   "cell_type": "markdown",
   "metadata": {},
   "source": [
    "# Revenue Projections"
   ]
  },
  {
   "cell_type": "code",
   "execution_count": 290,
   "metadata": {},
   "outputs": [],
   "source": [
    "revenue_growth_rate = is_df.revenue.pct_change().mean()"
   ]
  },
  {
   "cell_type": "code",
   "execution_count": 288,
   "metadata": {},
   "outputs": [
    {
     "data": {
      "text/plain": [
       "0.02455870805893343"
      ]
     },
     "execution_count": 288,
     "metadata": {},
     "output_type": "execute_result"
    }
   ],
   "source": [
    "revenue_growth_rate"
   ]
  },
  {
   "cell_type": "code",
   "execution_count": 303,
   "metadata": {},
   "outputs": [],
   "source": [
    "recent_year_data = 2020\n",
    "project_year = [recent_year_data+1 for i in range(4)]\n",
    "\n"
   ]
  },
  {
   "cell_type": "code",
   "execution_count": 304,
   "metadata": {},
   "outputs": [
    {
     "data": {
      "text/plain": [
       "[2021, 2021, 2021, 2021]"
      ]
     },
     "execution_count": 304,
     "metadata": {},
     "output_type": "execute_result"
    }
   ],
   "source": [
    "project_year"
   ]
  },
  {
   "cell_type": "code",
   "execution_count": null,
   "metadata": {},
   "outputs": [],
   "source": []
  }
 ],
 "metadata": {
  "kernelspec": {
   "display_name": "Python 3",
   "language": "python",
   "name": "python3"
  },
  "language_info": {
   "codemirror_mode": {
    "name": "ipython",
    "version": 3
   },
   "file_extension": ".py",
   "mimetype": "text/x-python",
   "name": "python",
   "nbconvert_exporter": "python",
   "pygments_lexer": "ipython3",
   "version": "3.7.6"
  }
 },
 "nbformat": 4,
 "nbformat_minor": 4
}
