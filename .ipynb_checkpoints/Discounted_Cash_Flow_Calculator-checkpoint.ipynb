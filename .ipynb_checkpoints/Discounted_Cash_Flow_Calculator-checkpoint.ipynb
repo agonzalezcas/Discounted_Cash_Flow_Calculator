{
 "cells": [
  {
   "cell_type": "code",
   "execution_count": 774,
   "metadata": {},
   "outputs": [],
   "source": [
    "import requests\n",
    "import pandas as pd\n",
    "import numpy as np"
   ]
  },
  {
   "cell_type": "code",
   "execution_count": 783,
   "metadata": {},
   "outputs": [],
   "source": [
    "company = 'WMT'\n",
    "api_key = '6032af0c940166a822afd34fc3259c71'"
   ]
  },
  {
   "cell_type": "code",
   "execution_count": 782,
   "metadata": {},
   "outputs": [
    {
     "ename": "TypeError",
     "evalue": "string indices must be integers",
     "output_type": "error",
     "traceback": [
      "\u001b[0;31m---------------------------------------------------------------------------\u001b[0m",
      "\u001b[0;31mTypeError\u001b[0m                                 Traceback (most recent call last)",
      "\u001b[0;32m<ipython-input-782-390395f1af7a>\u001b[0m in \u001b[0;36m<module>\u001b[0;34m\u001b[0m\n\u001b[1;32m      9\u001b[0m \u001b[0;32mfor\u001b[0m \u001b[0mitem\u001b[0m \u001b[0;32min\u001b[0m \u001b[0mincome_state\u001b[0m\u001b[0;34m:\u001b[0m\u001b[0;34m\u001b[0m\u001b[0;34m\u001b[0m\u001b[0m\n\u001b[1;32m     10\u001b[0m     \u001b[0;32mif\u001b[0m \u001b[0mcount\u001b[0m \u001b[0;34m<\u001b[0m \u001b[0;36m10\u001b[0m\u001b[0;34m:\u001b[0m\u001b[0;34m\u001b[0m\u001b[0;34m\u001b[0m\u001b[0m\n\u001b[0;32m---> 11\u001b[0;31m         \u001b[0mrevenue\u001b[0m\u001b[0;34m[\u001b[0m\u001b[0mitem\u001b[0m\u001b[0;34m[\u001b[0m\u001b[0;34m'date'\u001b[0m\u001b[0;34m]\u001b[0m\u001b[0;34m]\u001b[0m \u001b[0;34m=\u001b[0m \u001b[0mitem\u001b[0m\u001b[0;34m[\u001b[0m\u001b[0;34m'revenue'\u001b[0m\u001b[0;34m]\u001b[0m\u001b[0;34m\u001b[0m\u001b[0;34m\u001b[0m\u001b[0m\n\u001b[0m\u001b[1;32m     12\u001b[0m         \u001b[0minterest_expense\u001b[0m\u001b[0;34m[\u001b[0m\u001b[0mitem\u001b[0m\u001b[0;34m[\u001b[0m\u001b[0;34m'date'\u001b[0m\u001b[0;34m]\u001b[0m\u001b[0;34m]\u001b[0m \u001b[0;34m=\u001b[0m \u001b[0mitem\u001b[0m\u001b[0;34m[\u001b[0m\u001b[0;34m'interestExpense'\u001b[0m\u001b[0;34m]\u001b[0m\u001b[0;34m\u001b[0m\u001b[0;34m\u001b[0m\u001b[0m\n\u001b[1;32m     13\u001b[0m         \u001b[0mincome_before_tax\u001b[0m\u001b[0;34m[\u001b[0m\u001b[0mitem\u001b[0m\u001b[0;34m[\u001b[0m\u001b[0;34m'date'\u001b[0m\u001b[0;34m]\u001b[0m\u001b[0;34m]\u001b[0m \u001b[0;34m=\u001b[0m \u001b[0mitem\u001b[0m\u001b[0;34m[\u001b[0m\u001b[0;34m'incomeBeforeTax'\u001b[0m\u001b[0;34m]\u001b[0m\u001b[0;34m\u001b[0m\u001b[0;34m\u001b[0m\u001b[0m\n",
      "\u001b[0;31mTypeError\u001b[0m: string indices must be integers"
     ]
    }
   ],
   "source": [
    "\n",
    "# Gets the Income Statement data that we need\n",
    "income_state = requests.get(f'https://financialmodelingprep.com/api/v3/income-statement/{company}?apikey={api_key}').json()\n",
    "revenue = {}\n",
    "interest_expense = {}\n",
    "income_before_tax = {}\n",
    "income_tax_expense = {}\n",
    "net_income = {}\n",
    "count = 0\n",
    "for item in income_state:\n",
    "    if count < 10:\n",
    "        revenue[item['date']] = item['revenue']\n",
    "        interest_expense[item['date']] = item['interestExpense']\n",
    "        income_before_tax[item['date']] = item['incomeBeforeTax']\n",
    "        income_tax_expense[item['date']] = item['incomeTaxExpense']\n",
    "        net_income[item['date']]= item['netIncome']\n",
    "        count += 1\n",
    "# Get the Cash Flow Statement that we need\n",
    "\n",
    "cash_flow = requests.get(f'https://financialmodelingprep.com/api/v3/cash-flow-statement/{company}?apikey={api_key}').json()\n",
    "\n",
    "cf_from_operating_activities = {}\n",
    "capital_expenditures = {}\n",
    "free_cash_flow = {}\n",
    "count = 0\n",
    "for item in cash_flow:\n",
    "    if count < 10:\n",
    "        cf_from_operating_activities[item['date']] = item['operatingCashFlow']\n",
    "        capital_expenditures[item['date']] = item['capitalExpenditure']\n",
    "        free_cash_flow[item['date']] = item['freeCashFlow']\n",
    "        count += 1\n",
    "\n",
    "# Gets the Balance Sheet Statement Data we need\n",
    "\n",
    "balance_sheet  = requests.get(f'https://financialmodelingprep.com/api/v3/balance-sheet-statement/{company}?apikey={api_key}').json()\n",
    "\n",
    "short_term_debt = {}\n",
    "long_term_debt = {}\n",
    "cash_and_short_term_invest = {}\n",
    "count = 0\n",
    "for item in balance_sheet:\n",
    "    if count < 10:\n",
    "        short_term_debt[item['date']] = item['totalCurrentLiabilities']\n",
    "        long_term_debt[item['date']] = item['longTermDebt']\n",
    "        cash_and_short_term_invest[item['date']] = item['cashAndShortTermInvestments']\n",
    "        count += 1"
   ]
  },
  {
   "cell_type": "markdown",
   "metadata": {},
   "source": [
    "# Income statement (IS) data frame"
   ]
  },
  {
   "cell_type": "code",
   "execution_count": 685,
   "metadata": {},
   "outputs": [],
   "source": [
    "# Dictionary that will hold all of the income statement data for display to a df\n",
    "income_statement = {}\n",
    "\n",
    "income_statement['revenue'],income_statement['interest_expense'],income_statement['income_before_tax'],income_statement['income_tax_expense'],income_statement['net_income'] = revenue, interest_expense,income_before_tax, income_tax_expense, net_income "
   ]
  },
  {
   "cell_type": "code",
   "execution_count": 686,
   "metadata": {},
   "outputs": [
    {
     "data": {
      "text/html": [
       "<div>\n",
       "<style scoped>\n",
       "    .dataframe tbody tr th:only-of-type {\n",
       "        vertical-align: middle;\n",
       "    }\n",
       "\n",
       "    .dataframe tbody tr th {\n",
       "        vertical-align: top;\n",
       "    }\n",
       "\n",
       "    .dataframe thead th {\n",
       "        text-align: right;\n",
       "    }\n",
       "</style>\n",
       "<table border=\"1\" class=\"dataframe\">\n",
       "  <thead>\n",
       "    <tr style=\"text-align: right;\">\n",
       "      <th></th>\n",
       "      <th>revenue</th>\n",
       "      <th>interest_expense</th>\n",
       "      <th>income_before_tax</th>\n",
       "      <th>income_tax_expense</th>\n",
       "      <th>net_income</th>\n",
       "    </tr>\n",
       "  </thead>\n",
       "  <tbody>\n",
       "    <tr>\n",
       "      <th>2010-10-02</th>\n",
       "      <td>38063000000</td>\n",
       "      <td>-16000000</td>\n",
       "      <td>6627000000</td>\n",
       "      <td>2314000000</td>\n",
       "      <td>3963000000</td>\n",
       "    </tr>\n",
       "    <tr>\n",
       "      <th>2011-10-01</th>\n",
       "      <td>40893000000</td>\n",
       "      <td>150000000</td>\n",
       "      <td>8043000000</td>\n",
       "      <td>2785000000</td>\n",
       "      <td>4807000000</td>\n",
       "    </tr>\n",
       "    <tr>\n",
       "      <th>2012-09-29</th>\n",
       "      <td>42278000000</td>\n",
       "      <td>155000000</td>\n",
       "      <td>9260000000</td>\n",
       "      <td>3087000000</td>\n",
       "      <td>5682000000</td>\n",
       "    </tr>\n",
       "    <tr>\n",
       "      <th>2013-09-28</th>\n",
       "      <td>45041000000</td>\n",
       "      <td>453000000</td>\n",
       "      <td>9620000000</td>\n",
       "      <td>2984000000</td>\n",
       "      <td>6136000000</td>\n",
       "    </tr>\n",
       "    <tr>\n",
       "      <th>2014-09-27</th>\n",
       "      <td>48813000000</td>\n",
       "      <td>734000000</td>\n",
       "      <td>12246000000</td>\n",
       "      <td>4242000000</td>\n",
       "      <td>7501000000</td>\n",
       "    </tr>\n",
       "    <tr>\n",
       "      <th>2015-10-03</th>\n",
       "      <td>52465000000</td>\n",
       "      <td>697000000</td>\n",
       "      <td>13868000000</td>\n",
       "      <td>5016000000</td>\n",
       "      <td>8382000000</td>\n",
       "    </tr>\n",
       "    <tr>\n",
       "      <th>2016-10-01</th>\n",
       "      <td>55632000000</td>\n",
       "      <td>666000000</td>\n",
       "      <td>14868000000</td>\n",
       "      <td>5078000000</td>\n",
       "      <td>9391000000</td>\n",
       "    </tr>\n",
       "    <tr>\n",
       "      <th>2017-09-30</th>\n",
       "      <td>55137000000</td>\n",
       "      <td>-65000000</td>\n",
       "      <td>13788000000</td>\n",
       "      <td>4422000000</td>\n",
       "      <td>8980000000</td>\n",
       "    </tr>\n",
       "    <tr>\n",
       "      <th>2018-09-29</th>\n",
       "      <td>59434000000</td>\n",
       "      <td>-676000000</td>\n",
       "      <td>14729000000</td>\n",
       "      <td>3363000000</td>\n",
       "      <td>12598000000</td>\n",
       "    </tr>\n",
       "    <tr>\n",
       "      <th>2019-09-28</th>\n",
       "      <td>69570000000</td>\n",
       "      <td>1246000000</td>\n",
       "      <td>13944000000</td>\n",
       "      <td>3065000000</td>\n",
       "      <td>11054000000</td>\n",
       "    </tr>\n",
       "  </tbody>\n",
       "</table>\n",
       "</div>"
      ],
      "text/plain": [
       "                revenue  interest_expense  income_before_tax  \\\n",
       "2010-10-02  38063000000         -16000000         6627000000   \n",
       "2011-10-01  40893000000         150000000         8043000000   \n",
       "2012-09-29  42278000000         155000000         9260000000   \n",
       "2013-09-28  45041000000         453000000         9620000000   \n",
       "2014-09-27  48813000000         734000000        12246000000   \n",
       "2015-10-03  52465000000         697000000        13868000000   \n",
       "2016-10-01  55632000000         666000000        14868000000   \n",
       "2017-09-30  55137000000         -65000000        13788000000   \n",
       "2018-09-29  59434000000        -676000000        14729000000   \n",
       "2019-09-28  69570000000        1246000000        13944000000   \n",
       "\n",
       "            income_tax_expense   net_income  \n",
       "2010-10-02          2314000000   3963000000  \n",
       "2011-10-01          2785000000   4807000000  \n",
       "2012-09-29          3087000000   5682000000  \n",
       "2013-09-28          2984000000   6136000000  \n",
       "2014-09-27          4242000000   7501000000  \n",
       "2015-10-03          5016000000   8382000000  \n",
       "2016-10-01          5078000000   9391000000  \n",
       "2017-09-30          4422000000   8980000000  \n",
       "2018-09-29          3363000000  12598000000  \n",
       "2019-09-28          3065000000  11054000000  "
      ]
     },
     "execution_count": 686,
     "metadata": {},
     "output_type": "execute_result"
    }
   ],
   "source": [
    "# \n",
    "is_df = pd.DataFrame.from_dict(income_statement,orient='index').T\n",
    "\n",
    "is_df.sort_index(inplace= True)\n",
    "is_df\n"
   ]
  },
  {
   "cell_type": "markdown",
   "metadata": {},
   "source": [
    "# Cash Flow statement (CF) data frame"
   ]
  },
  {
   "cell_type": "code",
   "execution_count": 687,
   "metadata": {},
   "outputs": [],
   "source": [
    "cash_flow_state = {}\n",
    "\n",
    "cash_flow_state[\"cfo\"],cash_flow_state[\"capex\"],cash_flow_state[\"free_cash_flow\"] = cf_from_operating_activities, capital_expenditures,free_cash_flow \n"
   ]
  },
  {
   "cell_type": "code",
   "execution_count": 688,
   "metadata": {},
   "outputs": [
    {
     "data": {
      "text/html": [
       "<div>\n",
       "<style scoped>\n",
       "    .dataframe tbody tr th:only-of-type {\n",
       "        vertical-align: middle;\n",
       "    }\n",
       "\n",
       "    .dataframe tbody tr th {\n",
       "        vertical-align: top;\n",
       "    }\n",
       "\n",
       "    .dataframe thead th {\n",
       "        text-align: right;\n",
       "    }\n",
       "</style>\n",
       "<table border=\"1\" class=\"dataframe\">\n",
       "  <thead>\n",
       "    <tr style=\"text-align: right;\">\n",
       "      <th></th>\n",
       "      <th>cfo</th>\n",
       "      <th>capex</th>\n",
       "      <th>free_cash_flow</th>\n",
       "    </tr>\n",
       "  </thead>\n",
       "  <tbody>\n",
       "    <tr>\n",
       "      <th>2010-10-02</th>\n",
       "      <td>6578000000</td>\n",
       "      <td>-2110000000</td>\n",
       "      <td>4468000000</td>\n",
       "    </tr>\n",
       "    <tr>\n",
       "      <th>2011-10-01</th>\n",
       "      <td>6994000000</td>\n",
       "      <td>-3559000000</td>\n",
       "      <td>3435000000</td>\n",
       "    </tr>\n",
       "    <tr>\n",
       "      <th>2012-09-29</th>\n",
       "      <td>7966000000</td>\n",
       "      <td>-3784000000</td>\n",
       "      <td>4182000000</td>\n",
       "    </tr>\n",
       "    <tr>\n",
       "      <th>2013-09-28</th>\n",
       "      <td>9452000000</td>\n",
       "      <td>-2796000000</td>\n",
       "      <td>6656000000</td>\n",
       "    </tr>\n",
       "    <tr>\n",
       "      <th>2014-09-27</th>\n",
       "      <td>9780000000</td>\n",
       "      <td>-3311000000</td>\n",
       "      <td>6469000000</td>\n",
       "    </tr>\n",
       "    <tr>\n",
       "      <th>2015-10-03</th>\n",
       "      <td>11385000000</td>\n",
       "      <td>-4265000000</td>\n",
       "      <td>7120000000</td>\n",
       "    </tr>\n",
       "    <tr>\n",
       "      <th>2016-10-01</th>\n",
       "      <td>13136000000</td>\n",
       "      <td>-4773000000</td>\n",
       "      <td>8363000000</td>\n",
       "    </tr>\n",
       "    <tr>\n",
       "      <th>2017-09-30</th>\n",
       "      <td>12343000000</td>\n",
       "      <td>-3623000000</td>\n",
       "      <td>8720000000</td>\n",
       "    </tr>\n",
       "    <tr>\n",
       "      <th>2018-09-29</th>\n",
       "      <td>14295000000</td>\n",
       "      <td>-4465000000</td>\n",
       "      <td>9830000000</td>\n",
       "    </tr>\n",
       "    <tr>\n",
       "      <th>2019-09-28</th>\n",
       "      <td>6606000000</td>\n",
       "      <td>-4876000000</td>\n",
       "      <td>1730000000</td>\n",
       "    </tr>\n",
       "  </tbody>\n",
       "</table>\n",
       "</div>"
      ],
      "text/plain": [
       "                    cfo       capex  free_cash_flow\n",
       "2010-10-02   6578000000 -2110000000      4468000000\n",
       "2011-10-01   6994000000 -3559000000      3435000000\n",
       "2012-09-29   7966000000 -3784000000      4182000000\n",
       "2013-09-28   9452000000 -2796000000      6656000000\n",
       "2014-09-27   9780000000 -3311000000      6469000000\n",
       "2015-10-03  11385000000 -4265000000      7120000000\n",
       "2016-10-01  13136000000 -4773000000      8363000000\n",
       "2017-09-30  12343000000 -3623000000      8720000000\n",
       "2018-09-29  14295000000 -4465000000      9830000000\n",
       "2019-09-28   6606000000 -4876000000      1730000000"
      ]
     },
     "execution_count": 688,
     "metadata": {},
     "output_type": "execute_result"
    }
   ],
   "source": [
    "cf_df = pd.DataFrame.from_dict(cash_flow_state,orient='index').T\n",
    "\n",
    "cf_df.sort_index(inplace = True)\n",
    "cf_df"
   ]
  },
  {
   "cell_type": "markdown",
   "metadata": {},
   "source": [
    "# Balance Sheet Statement (BS) data frame(df)"
   ]
  },
  {
   "cell_type": "code",
   "execution_count": 689,
   "metadata": {},
   "outputs": [],
   "source": [
    "balance_sheet_state = {}\n",
    "\n",
    "balance_sheet_state[\"short_term_debt\"],balance_sheet_state[\"long_term_debt\"],balance_sheet_state[\"cash_and_sti\"] = short_term_debt,long_term_debt,cash_and_short_term_invest"
   ]
  },
  {
   "cell_type": "code",
   "execution_count": 690,
   "metadata": {},
   "outputs": [
    {
     "data": {
      "text/html": [
       "<div>\n",
       "<style scoped>\n",
       "    .dataframe tbody tr th:only-of-type {\n",
       "        vertical-align: middle;\n",
       "    }\n",
       "\n",
       "    .dataframe tbody tr th {\n",
       "        vertical-align: top;\n",
       "    }\n",
       "\n",
       "    .dataframe thead th {\n",
       "        text-align: right;\n",
       "    }\n",
       "</style>\n",
       "<table border=\"1\" class=\"dataframe\">\n",
       "  <thead>\n",
       "    <tr style=\"text-align: right;\">\n",
       "      <th></th>\n",
       "      <th>short_term_debt</th>\n",
       "      <th>long_term_debt</th>\n",
       "      <th>cash_and_sti</th>\n",
       "    </tr>\n",
       "  </thead>\n",
       "  <tbody>\n",
       "    <tr>\n",
       "      <th>2010-10-02</th>\n",
       "      <td>11000000000</td>\n",
       "      <td>10354000000</td>\n",
       "      <td>2722000000</td>\n",
       "    </tr>\n",
       "    <tr>\n",
       "      <th>2011-10-01</th>\n",
       "      <td>12088000000</td>\n",
       "      <td>11210000000</td>\n",
       "      <td>3185000000</td>\n",
       "    </tr>\n",
       "    <tr>\n",
       "      <th>2012-09-29</th>\n",
       "      <td>12813000000</td>\n",
       "      <td>10981000000</td>\n",
       "      <td>3387000000</td>\n",
       "    </tr>\n",
       "    <tr>\n",
       "      <th>2013-09-28</th>\n",
       "      <td>11704000000</td>\n",
       "      <td>13050000000</td>\n",
       "      <td>3931000000</td>\n",
       "    </tr>\n",
       "    <tr>\n",
       "      <th>2014-09-27</th>\n",
       "      <td>13292000000</td>\n",
       "      <td>12676000000</td>\n",
       "      <td>3421000000</td>\n",
       "    </tr>\n",
       "    <tr>\n",
       "      <th>2015-10-03</th>\n",
       "      <td>16334000000</td>\n",
       "      <td>12773000000</td>\n",
       "      <td>4269000000</td>\n",
       "    </tr>\n",
       "    <tr>\n",
       "      <th>2016-10-01</th>\n",
       "      <td>16842000000</td>\n",
       "      <td>16483000000</td>\n",
       "      <td>4610000000</td>\n",
       "    </tr>\n",
       "    <tr>\n",
       "      <th>2017-09-30</th>\n",
       "      <td>19595000000</td>\n",
       "      <td>19119000000</td>\n",
       "      <td>4017000000</td>\n",
       "    </tr>\n",
       "    <tr>\n",
       "      <th>2018-09-29</th>\n",
       "      <td>17860000000</td>\n",
       "      <td>17084000000</td>\n",
       "      <td>4150000000</td>\n",
       "    </tr>\n",
       "    <tr>\n",
       "      <th>2019-09-28</th>\n",
       "      <td>31341000000</td>\n",
       "      <td>38129000000</td>\n",
       "      <td>5418000000</td>\n",
       "    </tr>\n",
       "  </tbody>\n",
       "</table>\n",
       "</div>"
      ],
      "text/plain": [
       "            short_term_debt  long_term_debt  cash_and_sti\n",
       "2010-10-02      11000000000     10354000000    2722000000\n",
       "2011-10-01      12088000000     11210000000    3185000000\n",
       "2012-09-29      12813000000     10981000000    3387000000\n",
       "2013-09-28      11704000000     13050000000    3931000000\n",
       "2014-09-27      13292000000     12676000000    3421000000\n",
       "2015-10-03      16334000000     12773000000    4269000000\n",
       "2016-10-01      16842000000     16483000000    4610000000\n",
       "2017-09-30      19595000000     19119000000    4017000000\n",
       "2018-09-29      17860000000     17084000000    4150000000\n",
       "2019-09-28      31341000000     38129000000    5418000000"
      ]
     },
     "execution_count": 690,
     "metadata": {},
     "output_type": "execute_result"
    }
   ],
   "source": [
    "bs_df = pd.DataFrame.from_dict(balance_sheet_state,orient='index').T\n",
    "\n",
    "bs_df.sort_index(inplace= True)\n",
    "\n",
    "bs_df"
   ]
  },
  {
   "cell_type": "code",
   "execution_count": 691,
   "metadata": {},
   "outputs": [
    {
     "data": {
      "text/plain": [
       "0.8172990722289815"
      ]
     },
     "execution_count": 691,
     "metadata": {},
     "output_type": "execute_result"
    }
   ],
   "source": [
    "# Calculates free cash flow to profit margin\n",
    "\n",
    "# Takes the free cash flow for every year and divides it by the net income.\n",
    "fcf_to_net_income_margin = (cf_df.free_cash_flow/is_df.net_income).mean()\n",
    "fcf_to_net_income_margin"
   ]
  },
  {
   "cell_type": "markdown",
   "metadata": {},
   "source": [
    "# Plot that will be returned for users."
   ]
  },
  {
   "cell_type": "code",
   "execution_count": 692,
   "metadata": {},
   "outputs": [
    {
     "data": {
      "image/png": "[encoded data removed]",
      "text/plain": [
       "<Figure size 432x288 with 1 Axes>"
      ]
     },
     "metadata": {
      "needs_background": "light"
     },
     "output_type": "display_data"
    }
   ],
   "source": [
    "revenue_chart = is_df.revenue.plot.bar()"
   ]
  },
  {
   "cell_type": "code",
   "execution_count": 693,
   "metadata": {},
   "outputs": [
    {
     "data": {
      "image/png": "[encoded data removed]",
      "text/plain": [
       "<Figure size 432x288 with 1 Axes>"
      ]
     },
     "metadata": {
      "needs_background": "light"
     },
     "output_type": "display_data"
    }
   ],
   "source": [
    "net_income_chart = is_df.net_income.plot.bar()\n"
   ]
  },
  {
   "cell_type": "code",
   "execution_count": 694,
   "metadata": {},
   "outputs": [
    {
     "data": {
      "image/png": "[encoded data removed]",
      "text/plain": [
       "<Figure size 432x288 with 1 Axes>"
      ]
     },
     "metadata": {
      "needs_background": "light"
     },
     "output_type": "display_data"
    }
   ],
   "source": [
    "fcf_chart = cf_df.free_cash_flow.plot.bar()"
   ]
  },
  {
   "cell_type": "code",
   "execution_count": 695,
   "metadata": {},
   "outputs": [
    {
     "data": {
      "image/png": "[encoded data removed]",
      "text/plain": [
       "<Figure size 432x288 with 1 Axes>"
      ]
     },
     "metadata": {
      "needs_background": "light"
     },
     "output_type": "display_data"
    }
   ],
   "source": [
    "revenue_to_net_income_to_fcf_df = pd.DataFrame({'Revenue':is_df.revenue,\"Net Income\":is_df.net_income,\"Free Cash Flow\":cf_df.free_cash_flow})\n",
    "r_to_ni_fcf_chart = revenue_to_net_income_to_fcf_df.plot.bar()"
   ]
  },
  {
   "cell_type": "markdown",
   "metadata": {},
   "source": [
    "# Revenue Projections"
   ]
  },
  {
   "cell_type": "code",
   "execution_count": 696,
   "metadata": {},
   "outputs": [],
   "source": [
    "revenue_growth_rate = is_df.revenue.pct_change().mean()"
   ]
  },
  {
   "cell_type": "code",
   "execution_count": 697,
   "metadata": {},
   "outputs": [
    {
     "data": {
      "text/plain": [
       "0.07023067203928966"
      ]
     },
     "execution_count": 697,
     "metadata": {},
     "output_type": "execute_result"
    }
   ],
   "source": [
    "revenue_growth_rate"
   ]
  },
  {
   "cell_type": "code",
   "execution_count": 698,
   "metadata": {},
   "outputs": [],
   "source": [
    "# Revenue Projection calculation\n",
    "recent_year_data = 2019\n",
    "project_year = [recent_year_data+i for i in range(5)]\n",
    "rev_projection = {}\n",
    "rev_projection[project_year[0]] = is_df.revenue.iloc[-1]\n",
    "rev_projection[project_year[1]] = rev_projection[project_year[0]] * (1+revenue_growth_rate)\n",
    "rev_projection[project_year[2]] = rev_projection[project_year[1]] * (1+revenue_growth_rate)\n",
    "rev_projection[project_year[3]] = rev_projection[project_year[2]] * (1+revenue_growth_rate)\n",
    "rev_projection[project_year[4]] = rev_projection[project_year[3]] * (1+revenue_growth_rate)\n",
    "# project_year[0] = is_df.revenue.iloc[-1]\n",
    "# project_year[1] = project_year[0] * (1+revenue_growth_rate)\n",
    "# project_year[2] = project_year[1] * (1+revenue_growth_rate)\n",
    "# project_year[3] = project_year[2] * (1+revenue_growth_rate)\n",
    "# project_year[4] = project_year[3] * (1+revenue_growth_rate)"
   ]
  },
  {
   "cell_type": "code",
   "execution_count": 699,
   "metadata": {},
   "outputs": [
    {
     "data": {
      "text/plain": [
       "2019    6.957000e+10\n",
       "2020    7.445595e+10\n",
       "2021    7.968504e+10\n",
       "2022    8.528137e+10\n",
       "2023    9.127074e+10\n",
       "dtype: float64"
      ]
     },
     "execution_count": 699,
     "metadata": {},
     "output_type": "execute_result"
    }
   ],
   "source": [
    "rev_projection_df = pd.Series(rev_projection)\n",
    "rev_projection_df"
   ]
  },
  {
   "cell_type": "markdown",
   "metadata": {},
   "source": [
    "# REVENUE TO NET INCOME"
   ]
  },
  {
   "cell_type": "code",
   "execution_count": 700,
   "metadata": {},
   "outputs": [],
   "source": [
    "revenue_to_net_income_margin = (is_df.net_income/is_df.revenue).mean()"
   ]
  },
  {
   "cell_type": "code",
   "execution_count": 701,
   "metadata": {},
   "outputs": [
    {
     "data": {
      "text/plain": [
       "0.1508256150060408"
      ]
     },
     "execution_count": 701,
     "metadata": {},
     "output_type": "execute_result"
    }
   ],
   "source": [
    "revenue_to_net_income_margin"
   ]
  },
  {
   "cell_type": "code",
   "execution_count": 702,
   "metadata": {},
   "outputs": [
    {
     "data": {
      "text/plain": [
       "2019    1.049294e+10\n",
       "2020    1.122986e+10\n",
       "2021    1.201855e+10\n",
       "2022    1.286262e+10\n",
       "2023    1.376597e+10\n",
       "dtype: float64"
      ]
     },
     "execution_count": 702,
     "metadata": {},
     "output_type": "execute_result"
    }
   ],
   "source": [
    "net_income_projection = rev_projection_df * revenue_to_net_income_margin\n",
    "\n",
    "net_income_projection_df = pd.Series(net_income_projection)\n",
    "\n",
    "net_income_projection_df"
   ]
  },
  {
   "cell_type": "code",
   "execution_count": 703,
   "metadata": {},
   "outputs": [
    {
     "data": {
      "text/plain": [
       "2019    1.049294e+10\n",
       "2020    1.122986e+10\n",
       "2021    1.201855e+10\n",
       "2022    1.286262e+10\n",
       "2023    1.376597e+10\n",
       "dtype: float64"
      ]
     },
     "execution_count": 703,
     "metadata": {},
     "output_type": "execute_result"
    }
   ],
   "source": [
    "net_income_projection"
   ]
  },
  {
   "cell_type": "markdown",
   "metadata": {},
   "source": [
    "# FREE CASHFLOW PROJECTIONS FROM NET INCOME"
   ]
  },
  {
   "cell_type": "code",
   "execution_count": 704,
   "metadata": {},
   "outputs": [],
   "source": [
    "free_cash_flow_projections = net_income_projection_df * fcf_to_net_income_margin"
   ]
  },
  {
   "cell_type": "code",
   "execution_count": 705,
   "metadata": {},
   "outputs": [
    {
     "data": {
      "text/plain": [
       "2019    8.575869e+09\n",
       "2020    9.178158e+09\n",
       "2021    9.822746e+09\n",
       "2022    1.051260e+10\n",
       "2023    1.125091e+10\n",
       "dtype: float64"
      ]
     },
     "execution_count": 705,
     "metadata": {},
     "output_type": "execute_result"
    }
   ],
   "source": [
    "free_cash_flow_projections"
   ]
  },
  {
   "cell_type": "code",
   "execution_count": 706,
   "metadata": {},
   "outputs": [],
   "source": [
    "free_cash_flow_projections_df  = pd.DataFrame(free_cash_flow_projections)"
   ]
  },
  {
   "cell_type": "code",
   "execution_count": 707,
   "metadata": {},
   "outputs": [],
   "source": [
    "# Company quote: Has the shares outstanding, has marketcap, eps, pe\n",
    "\n",
    "company_quote = requests.get(f'https://financialmodelingprep.com/api/v3/quote/{company}?apikey={api_key}').json()"
   ]
  },
  {
   "cell_type": "markdown",
   "metadata": {},
   "source": [
    "# Required Rate of return using WACC (RROR)"
   ]
  },
  {
   "cell_type": "code",
   "execution_count": 708,
   "metadata": {},
   "outputs": [],
   "source": [
    "# Cost of debt\n",
    "\n",
    "cost_of_debt = is_df.interest_expense.iloc[-1]/(bs_df.short_term_debt.iloc[-1] + bs_df.long_term_debt.iloc[-1])\n",
    "tax_rate = is_df.income_tax_expense.iloc[-1]/is_df.income_before_tax.iloc[-1] "
   ]
  },
  {
   "cell_type": "code",
   "execution_count": 709,
   "metadata": {},
   "outputs": [],
   "source": [
    "rate_of_debt = cost_of_debt*(1-tax_rate)"
   ]
  },
  {
   "cell_type": "code",
   "execution_count": 710,
   "metadata": {},
   "outputs": [],
   "source": [
    "# Cost of equity using Capital Asset pricing model\n",
    "\n",
    "# The 10 yr US bond rates\n",
    "risk_free_rate = 0.006690\n",
    "# return of the S&P 500 over a 10 year period (10%)\n",
    "market_rate = 0.1\n",
    "company_profile = requests.get(f'https://financialmodelingprep.com/api/v3/profile/{company}?apikey={api_key}').json()\n",
    "beta = 0\n",
    "for item in company_profile:\n",
    "    beta = item['beta']\n",
    "#rate_of_asset = \n",
    "\n",
    "rate_of_asset = risk_free_rate + beta * (market_rate - risk_free_rate)\n",
    "\n",
    "\n"
   ]
  },
  {
   "cell_type": "code",
   "execution_count": 711,
   "metadata": {},
   "outputs": [],
   "source": [
    "# Weight of Debt and Equity. \n",
    "\n",
    "# Weight of debt = \n",
    "#Total capital = Total debt + market cap \n",
    "# Weight of debt = total debt / total capital \n",
    "total_debt = bs_df.short_term_debt.iloc[-1]+ bs_df.long_term_debt.iloc[-1]\n",
    "market_cap = 0\n",
    "for item in company_quote:\n",
    "    market_cap = item['marketCap']\n",
    "    \n",
    "\n",
    "\n",
    "total_captial = total_debt + market_cap\n",
    "\n",
    "weight_of_debt = total_debt / total_captial \n",
    "\n",
    "# Weight of equity  = 1 - weight of debt "
   ]
  },
  {
   "cell_type": "code",
   "execution_count": 712,
   "metadata": {},
   "outputs": [
    {
     "data": {
      "text/plain": [
       "0.22793090474937927"
      ]
     },
     "execution_count": 712,
     "metadata": {},
     "output_type": "execute_result"
    }
   ],
   "source": [
    "weight_of_debt"
   ]
  },
  {
   "cell_type": "code",
   "execution_count": 713,
   "metadata": {},
   "outputs": [],
   "source": [
    "weight_of_asset = (1-weight_of_debt)"
   ]
  },
  {
   "cell_type": "code",
   "execution_count": 714,
   "metadata": {},
   "outputs": [
    {
     "data": {
      "text/plain": [
       "0.7720690952506207"
      ]
     },
     "execution_count": 714,
     "metadata": {},
     "output_type": "execute_result"
    }
   ],
   "source": [
    "weight_of_asset"
   ]
  },
  {
   "cell_type": "code",
   "execution_count": 715,
   "metadata": {},
   "outputs": [],
   "source": [
    "wacc = (weight_of_debt * rate_of_debt) + (weight_of_asset * rate_of_asset)"
   ]
  },
  {
   "cell_type": "code",
   "execution_count": 716,
   "metadata": {},
   "outputs": [
    {
     "data": {
      "text/plain": [
       "0.08592563685825083"
      ]
     },
     "execution_count": 716,
     "metadata": {},
     "output_type": "execute_result"
    }
   ],
   "source": [
    "wacc"
   ]
  },
  {
   "cell_type": "code",
   "execution_count": 717,
   "metadata": {},
   "outputs": [],
   "source": [
    "rror = wacc"
   ]
  },
  {
   "cell_type": "code",
   "execution_count": 718,
   "metadata": {},
   "outputs": [],
   "source": [
    "# Shares outstanding \n",
    "\n",
    "shares_outstanding = 0\n",
    "for item in company_quote:\n",
    "    shares_outstanding = item['sharesOutstanding']"
   ]
  },
  {
   "cell_type": "code",
   "execution_count": 719,
   "metadata": {},
   "outputs": [
    {
     "data": {
      "text/plain": [
       "1807059956"
      ]
     },
     "execution_count": 719,
     "metadata": {},
     "output_type": "execute_result"
    }
   ],
   "source": [
    "shares_outstanding"
   ]
  },
  {
   "cell_type": "code",
   "execution_count": 720,
   "metadata": {},
   "outputs": [],
   "source": [
    "# Perpetual Growth rate\n",
    "perpetual_growth_rate = 0.025"
   ]
  },
  {
   "cell_type": "markdown",
   "metadata": {},
   "source": [
    "# Calculating Companies Value "
   ]
  },
  {
   "cell_type": "code",
   "execution_count": 721,
   "metadata": {},
   "outputs": [],
   "source": [
    "# Calculating Terminal Value\n",
    "\n",
    "terminal_value  = free_cash_flow_projections_df.iloc[-1] *(1+perpetual_growth_rate) /(rror-perpetual_growth_rate)\n",
    "company_value_df = pd.DataFrame(free_cash_flow_projections[1:])"
   ]
  },
  {
   "cell_type": "code",
   "execution_count": 722,
   "metadata": {},
   "outputs": [
    {
     "data": {
      "text/html": [
       "<div>\n",
       "<style scoped>\n",
       "    .dataframe tbody tr th:only-of-type {\n",
       "        vertical-align: middle;\n",
       "    }\n",
       "\n",
       "    .dataframe tbody tr th {\n",
       "        vertical-align: top;\n",
       "    }\n",
       "\n",
       "    .dataframe thead th {\n",
       "        text-align: right;\n",
       "    }\n",
       "</style>\n",
       "<table border=\"1\" class=\"dataframe\">\n",
       "  <thead>\n",
       "    <tr style=\"text-align: right;\">\n",
       "      <th></th>\n",
       "      <th>0</th>\n",
       "    </tr>\n",
       "  </thead>\n",
       "  <tbody>\n",
       "    <tr>\n",
       "      <th>2020</th>\n",
       "      <td>9.178158e+09</td>\n",
       "    </tr>\n",
       "    <tr>\n",
       "      <th>2021</th>\n",
       "      <td>9.822746e+09</td>\n",
       "    </tr>\n",
       "    <tr>\n",
       "      <th>2022</th>\n",
       "      <td>1.051260e+10</td>\n",
       "    </tr>\n",
       "    <tr>\n",
       "      <th>2023</th>\n",
       "      <td>1.125091e+10</td>\n",
       "    </tr>\n",
       "  </tbody>\n",
       "</table>\n",
       "</div>"
      ],
      "text/plain": [
       "                 0\n",
       "2020  9.178158e+09\n",
       "2021  9.822746e+09\n",
       "2022  1.051260e+10\n",
       "2023  1.125091e+10"
      ]
     },
     "execution_count": 722,
     "metadata": {},
     "output_type": "execute_result"
    }
   ],
   "source": [
    "company_value_df"
   ]
  },
  {
   "cell_type": "code",
   "execution_count": 723,
   "metadata": {},
   "outputs": [],
   "source": [
    "company_value_df = company_value_df.append(terminal_value,ignore_index=True)"
   ]
  },
  {
   "cell_type": "code",
   "execution_count": 724,
   "metadata": {},
   "outputs": [
    {
     "data": {
      "text/html": [
       "<div>\n",
       "<style scoped>\n",
       "    .dataframe tbody tr th:only-of-type {\n",
       "        vertical-align: middle;\n",
       "    }\n",
       "\n",
       "    .dataframe tbody tr th {\n",
       "        vertical-align: top;\n",
       "    }\n",
       "\n",
       "    .dataframe thead th {\n",
       "        text-align: right;\n",
       "    }\n",
       "</style>\n",
       "<table border=\"1\" class=\"dataframe\">\n",
       "  <thead>\n",
       "    <tr style=\"text-align: right;\">\n",
       "      <th></th>\n",
       "      <th>0</th>\n",
       "    </tr>\n",
       "  </thead>\n",
       "  <tbody>\n",
       "    <tr>\n",
       "      <th>0</th>\n",
       "      <td>9.178158e+09</td>\n",
       "    </tr>\n",
       "    <tr>\n",
       "      <th>1</th>\n",
       "      <td>9.822746e+09</td>\n",
       "    </tr>\n",
       "    <tr>\n",
       "      <th>2</th>\n",
       "      <td>1.051260e+10</td>\n",
       "    </tr>\n",
       "    <tr>\n",
       "      <th>3</th>\n",
       "      <td>1.125091e+10</td>\n",
       "    </tr>\n",
       "    <tr>\n",
       "      <th>4</th>\n",
       "      <td>1.892829e+11</td>\n",
       "    </tr>\n",
       "  </tbody>\n",
       "</table>\n",
       "</div>"
      ],
      "text/plain": [
       "              0\n",
       "0  9.178158e+09\n",
       "1  9.822746e+09\n",
       "2  1.051260e+10\n",
       "3  1.125091e+10\n",
       "4  1.892829e+11"
      ]
     },
     "execution_count": 724,
     "metadata": {},
     "output_type": "execute_result"
    }
   ],
   "source": [
    "company_value_df"
   ]
  },
  {
   "cell_type": "code",
   "execution_count": 725,
   "metadata": {},
   "outputs": [],
   "source": [
    "# Getting the discounted factor (1+wacc)^time_period \n",
    "\n",
    "discount_factor = [(1+wacc)**i for i in range(1,5)]"
   ]
  },
  {
   "cell_type": "code",
   "execution_count": 726,
   "metadata": {},
   "outputs": [],
   "source": [
    "# repeat the last time period number for the terminal value. \n",
    "discount_factor.append(discount_factor[-1])"
   ]
  },
  {
   "cell_type": "code",
   "execution_count": 727,
   "metadata": {},
   "outputs": [
    {
     "data": {
      "text/plain": [
       "[1.0859256368582508,\n",
       " 1.1792344887859976,\n",
       " 1.2805609632401485,\n",
       " 1.3905939795423732,\n",
       " 1.3905939795423732]"
      ]
     },
     "execution_count": 727,
     "metadata": {},
     "output_type": "execute_result"
    }
   ],
   "source": [
    "discount_factor"
   ]
  },
  {
   "cell_type": "code",
   "execution_count": 728,
   "metadata": {},
   "outputs": [],
   "source": [
    "discount_factor_df = pd.DataFrame(discount_factor)"
   ]
  },
  {
   "cell_type": "code",
   "execution_count": 729,
   "metadata": {},
   "outputs": [
    {
     "data": {
      "text/html": [
       "<div>\n",
       "<style scoped>\n",
       "    .dataframe tbody tr th:only-of-type {\n",
       "        vertical-align: middle;\n",
       "    }\n",
       "\n",
       "    .dataframe tbody tr th {\n",
       "        vertical-align: top;\n",
       "    }\n",
       "\n",
       "    .dataframe thead th {\n",
       "        text-align: right;\n",
       "    }\n",
       "</style>\n",
       "<table border=\"1\" class=\"dataframe\">\n",
       "  <thead>\n",
       "    <tr style=\"text-align: right;\">\n",
       "      <th></th>\n",
       "      <th>0</th>\n",
       "    </tr>\n",
       "  </thead>\n",
       "  <tbody>\n",
       "    <tr>\n",
       "      <th>0</th>\n",
       "      <td>1.085926</td>\n",
       "    </tr>\n",
       "    <tr>\n",
       "      <th>1</th>\n",
       "      <td>1.179234</td>\n",
       "    </tr>\n",
       "    <tr>\n",
       "      <th>2</th>\n",
       "      <td>1.280561</td>\n",
       "    </tr>\n",
       "    <tr>\n",
       "      <th>3</th>\n",
       "      <td>1.390594</td>\n",
       "    </tr>\n",
       "    <tr>\n",
       "      <th>4</th>\n",
       "      <td>1.390594</td>\n",
       "    </tr>\n",
       "  </tbody>\n",
       "</table>\n",
       "</div>"
      ],
      "text/plain": [
       "          0\n",
       "0  1.085926\n",
       "1  1.179234\n",
       "2  1.280561\n",
       "3  1.390594\n",
       "4  1.390594"
      ]
     },
     "execution_count": 729,
     "metadata": {},
     "output_type": "execute_result"
    }
   ],
   "source": [
    "discount_factor_df"
   ]
  },
  {
   "cell_type": "code",
   "execution_count": 730,
   "metadata": {},
   "outputs": [],
   "source": [
    "# Divides our projected free cashflow value by our discounted factor\n",
    "final_fcf = company_value_df.div(discount_factor_df)"
   ]
  },
  {
   "cell_type": "code",
   "execution_count": 731,
   "metadata": {},
   "outputs": [
    {
     "data": {
      "text/html": [
       "<div>\n",
       "<style scoped>\n",
       "    .dataframe tbody tr th:only-of-type {\n",
       "        vertical-align: middle;\n",
       "    }\n",
       "\n",
       "    .dataframe tbody tr th {\n",
       "        vertical-align: top;\n",
       "    }\n",
       "\n",
       "    .dataframe thead th {\n",
       "        text-align: right;\n",
       "    }\n",
       "</style>\n",
       "<table border=\"1\" class=\"dataframe\">\n",
       "  <thead>\n",
       "    <tr style=\"text-align: right;\">\n",
       "      <th></th>\n",
       "      <th>0</th>\n",
       "    </tr>\n",
       "  </thead>\n",
       "  <tbody>\n",
       "    <tr>\n",
       "      <th>0</th>\n",
       "      <td>8.451921e+09</td>\n",
       "    </tr>\n",
       "    <tr>\n",
       "      <th>1</th>\n",
       "      <td>8.329765e+09</td>\n",
       "    </tr>\n",
       "    <tr>\n",
       "      <th>2</th>\n",
       "      <td>8.209374e+09</td>\n",
       "    </tr>\n",
       "    <tr>\n",
       "      <th>3</th>\n",
       "      <td>8.090723e+09</td>\n",
       "    </tr>\n",
       "    <tr>\n",
       "      <th>4</th>\n",
       "      <td>1.361166e+11</td>\n",
       "    </tr>\n",
       "  </tbody>\n",
       "</table>\n",
       "</div>"
      ],
      "text/plain": [
       "              0\n",
       "0  8.451921e+09\n",
       "1  8.329765e+09\n",
       "2  8.209374e+09\n",
       "3  8.090723e+09\n",
       "4  1.361166e+11"
      ]
     },
     "execution_count": 731,
     "metadata": {},
     "output_type": "execute_result"
    }
   ],
   "source": [
    "final_fcf"
   ]
  },
  {
   "cell_type": "code",
   "execution_count": 732,
   "metadata": {},
   "outputs": [],
   "source": [
    "# Total all free cash flow to get companies value\n",
    "total_company_value = final_fcf.values.sum()"
   ]
  },
  {
   "cell_type": "code",
   "execution_count": 733,
   "metadata": {},
   "outputs": [
    {
     "data": {
      "text/plain": [
       "169198394500.5015"
      ]
     },
     "execution_count": 733,
     "metadata": {},
     "output_type": "execute_result"
    }
   ],
   "source": [
    "total_company_value"
   ]
  },
  {
   "cell_type": "code",
   "execution_count": 734,
   "metadata": {},
   "outputs": [],
   "source": [
    "intrinsic_value = total_company_value/shares_outstanding"
   ]
  },
  {
   "cell_type": "code",
   "execution_count": 735,
   "metadata": {},
   "outputs": [
    {
     "data": {
      "text/plain": [
       "93.63186536158378"
      ]
     },
     "execution_count": 735,
     "metadata": {},
     "output_type": "execute_result"
    }
   ],
   "source": [
    "intrinsic_value"
   ]
  },
  {
   "cell_type": "code",
   "execution_count": null,
   "metadata": {},
   "outputs": [],
   "source": []
  },
  {
   "cell_type": "markdown",
   "metadata": {},
   "source": [
    "# Sectioning off to script Without WACC"
   ]
  },
  {
   "cell_type": "code",
   "execution_count": 784,
   "metadata": {},
   "outputs": [],
   "source": [
    "# Imports needed\n",
    "import requests\n",
    "import pandas as pd\n",
    "import numpy as np\n",
    "import matplotlib.pyplot as plt\n",
    "\n",
    "def dcf_calculator(company,api_key,rror):\n",
    "    \n",
    "    # Gets 10 years of data from the Income Statement that we need and stores it in a Pandas df\n",
    "    \n",
    "    income_state = requests.get(f'https://financialmodelingprep.com/api/v3/income-statement/{company}?apikey={api_key}').json()\n",
    "    revenue = {}\n",
    "    interest_expense = {}\n",
    "    income_before_tax = {}\n",
    "    income_tax_expense = {}\n",
    "    net_income = {}\n",
    "    count = 0\n",
    "    for item in income_state:\n",
    "        if count < 10:\n",
    "            revenue[item['date']] = item['revenue']\n",
    "            interest_expense[item['date']] = item['interestExpense']\n",
    "            income_before_tax[item['date']] = item['incomeBeforeTax']\n",
    "            income_tax_expense[item['date']] = item['incomeTaxExpense']\n",
    "            net_income[item['date']]= item['netIncome']\n",
    "            count += 1\n",
    "            \n",
    "    income_statement = {}\n",
    "    income_statement['revenue'],income_statement['interest_expense'],income_statement['income_before_tax'],income_statement['income_tax_expense'],income_statement['net_income'] = revenue, interest_expense,income_before_tax, income_tax_expense, net_income \n",
    "    is_df = pd.DataFrame.from_dict(income_statement,orient='index').T\n",
    "    is_df.sort_index(inplace= True)\n",
    "    \n",
    "    # Gets 10 years of data from the Cash Flow Statment that we need and stores it in a Pandas df\n",
    "\n",
    "    cash_flow = requests.get(f'https://financialmodelingprep.com/api/v3/cash-flow-statement/{company}?apikey={api_key}').json()\n",
    "\n",
    "    cf_from_operating_activities = {}\n",
    "    capital_expenditures = {}\n",
    "    free_cash_flow = {}\n",
    "    count = 0\n",
    "    for item in cash_flow:\n",
    "        if count < 10:\n",
    "            cf_from_operating_activities[item['date']] = item['operatingCashFlow']\n",
    "            capital_expenditures[item['date']] = item['capitalExpenditure']\n",
    "            free_cash_flow[item['date']] = item['freeCashFlow']\n",
    "            count += 1\n",
    "    cash_flow_state = {}\n",
    "\n",
    "    cash_flow_state[\"cfo\"],cash_flow_state[\"capex\"],cash_flow_state[\"free_cash_flow\"] = cf_from_operating_activities, capital_expenditures,free_cash_flow \n",
    "\n",
    "\n",
    "    cf_df = pd.DataFrame.from_dict(cash_flow_state,orient='index').T\n",
    "    cf_df.sort_index(inplace = True)\n",
    "    \n",
    "    # Gets 10 years of data from the Balance Sheet that we need and stores it in a Pandas df\n",
    "\n",
    "    balance_sheet  = requests.get(f'https://financialmodelingprep.com/api/v3/balance-sheet-statement/{company}?apikey={api_key}').json()\n",
    "\n",
    "    short_term_debt = {}\n",
    "    long_term_debt = {}\n",
    "    cash_and_short_term_invest = {}\n",
    "    count = 0\n",
    "    for item in balance_sheet:\n",
    "        if count < 10:\n",
    "            short_term_debt[item['date']] = item['totalCurrentLiabilities']\n",
    "            long_term_debt[item['date']] = item['longTermDebt']\n",
    "            cash_and_short_term_invest[item['date']] = item['cashAndShortTermInvestments']\n",
    "            count += 1\n",
    "    balance_sheet_state = {}\n",
    "    balance_sheet_state[\"short_term_debt\"],balance_sheet_state[\"long_term_debt\"],balance_sheet_state[\"cash_and_sti\"] = short_term_debt,long_term_debt,cash_and_short_term_invest\n",
    "    bs_df = pd.DataFrame.from_dict(balance_sheet_state,orient='index').T\n",
    "    bs_df.sort_index(inplace= True)\n",
    "\n",
    "    # Calculates free cash flow to profit margin\n",
    "\n",
    "    fcf_to_net_income_margin = (cf_df.free_cash_flow/is_df.net_income).mean()\n",
    "    \n",
    "    # Revenue growth rate average over a 10 year period \n",
    "    \n",
    "    revenue_growth_rate = is_df.revenue.pct_change().mean()\n",
    "    \n",
    "    # Revenue Projection calculation with write out to a dataframe \n",
    "    recent_year_data = 2019\n",
    "    project_year = [recent_year_data+i for i in range(5)]\n",
    "    rev_projection = {}\n",
    "    rev_projection[project_year[0]] = is_df.revenue.iloc[-1]\n",
    "    rev_projection[project_year[1]] = rev_projection[project_year[0]] * (1+revenue_growth_rate)\n",
    "    rev_projection[project_year[2]] = rev_projection[project_year[1]] * (1+revenue_growth_rate)\n",
    "    rev_projection[project_year[3]] = rev_projection[project_year[2]] * (1+revenue_growth_rate)\n",
    "    rev_projection[project_year[4]] = rev_projection[project_year[3]] * (1+revenue_growth_rate)\n",
    "    rev_projection_df = pd.Series(rev_projection)\n",
    "    \n",
    "    # Revenue to Net Income margins average over a 10 year period \n",
    "    revenue_to_net_income_margin = (is_df.net_income/is_df.revenue).mean()\n",
    "    \n",
    "    # Net income projections using revenue to net income margins\n",
    "    net_income_projection = rev_projection_df * revenue_to_net_income_margin\n",
    "    net_income_projection_df = pd.Series(net_income_projection)\n",
    "    \n",
    "    \n",
    "    # Free Cash Flow Projections from Net income \n",
    "    # Multiples net income by the free cash flow to net income margins and writes out to a pd df\n",
    "    free_cash_flow_projections = net_income_projection_df * fcf_to_net_income_margin\n",
    "    free_cash_flow_projections_df  = pd.DataFrame(free_cash_flow_projections)\n",
    "    \n",
    "    # Company quote: Has the shares outstanding, has marketcap, eps, pe\n",
    "\n",
    "    company_quote = requests.get(f'https://financialmodelingprep.com/api/v3/quote/{company}?apikey={api_key}').json()\n",
    "    \n",
    "    # Shares outstanding \n",
    "    shares_outstanding = 0\n",
    "    for item in company_quote:\n",
    "        shares_outstanding = item['sharesOutstanding']\n",
    "        \n",
    "    # Perpetual Growth rate\n",
    "    perpetual_growth_rate = 0.025\n",
    "    \n",
    "    # Calculating companies value\n",
    "    \n",
    "    # Calculating Terminal Value and creates a new df of the free cashflow projection w/o recent number \n",
    "    terminal_value  = free_cash_flow_projections_df.iloc[-1] *(1+perpetual_growth_rate) /(rror-perpetual_growth_rate)\n",
    "    company_value_df = pd.DataFrame(free_cash_flow_projections[1:])\n",
    "    # Adds the terminal value to the DF \n",
    "    company_value_df = company_value_df.append(terminal_value,ignore_index=True)\n",
    "    \n",
    "    # Getting the discounted factor (1+rror)^time_period\n",
    "\n",
    "    discount_factor = [(1+rror)**i for i in range(1,5)]\n",
    "    \n",
    "    # repeats the last time period number for the terminal value and writes it to a Df\n",
    "    discount_factor.append(discount_factor[-1])\n",
    "    discount_factor_df = pd.DataFrame(discount_factor)\n",
    "    \n",
    "    # Divides our projected free cashflow value by our discounted factor\n",
    "    final_fcf = company_value_df.div(discount_factor_df)\n",
    "    \n",
    "    # Total all free cash flow to get companies value\n",
    "    total_company_value = final_fcf.values.sum()\n",
    "    \n",
    "    # The buy price\n",
    "    intrinsic_value = total_company_value/shares_outstanding\n",
    "    \n",
    "    # Intrinsic Vaule with debt and cash factored in \n",
    "    net_borrowings = bs_df.short_term_debt.iloc[-1] + bs_df.long_term_debt.iloc[-1] - bs_df.cash_and_sti.iloc[-1]\n",
    "    \n",
    "    intrinsic_value_w_debt = (total_company_value - net_borrowings)/shares_outstanding\n",
    "    \n",
    "    # Debt Analysis\n",
    "    # Weight of Debt and Equity. \n",
    "\n",
    "    # Weight of debt = \n",
    "    #Total capital = Total debt + market cap \n",
    "    # Weight of debt = total debt / total capital \n",
    "    total_debt = bs_df.short_term_debt.iloc[-1]+ bs_df.long_term_debt.iloc[-1]\n",
    "    market_cap = 0\n",
    "    for item in company_quote:\n",
    "        market_cap = item['marketCap']\n",
    "    \n",
    "\n",
    "\n",
    "    total_captial = total_debt + market_cap\n",
    "\n",
    "    weight_of_debt = total_debt / total_captial \n",
    "    \n",
    "    weight_of_asset = (1-weight_of_debt)\n",
    "    \n",
    "    # Data plots needed \n",
    "    revenue_chart = is_df.revenue.plot.bar()\n",
    "    net_income_chart = is_df.net_income.plot.bar()\n",
    "    fcf_chart = cf_df.free_cash_flow.plot.bar()\n",
    "    \n",
    "    revenue_to_net_income_to_fcf_df = pd.DataFrame({'Revenue':is_df.revenue,\"Net Income\":is_df.net_income,\"Free Cash Flow\":cf_df.free_cash_flow})\n",
    "    r_to_ni_fcf_chart = revenue_to_net_income_to_fcf_df.plot.bar()\n",
    "\n",
    "\n",
    "    \n",
    "    \n",
    "    return intrinsic_value_w_debt,intrinsic_value, revenue_growth_rate*100, fcf_to_net_income_margin*100, revenue_to_net_income_margin*100, is_df.revenue.plot.bar(),net_income_chart, fcf_chart, r_to_ni_fcf_chart "
   ]
  },
  {
   "cell_type": "code",
   "execution_count": 785,
   "metadata": {},
   "outputs": [
    {
     "ename": "TypeError",
     "evalue": "string indices must be integers",
     "output_type": "error",
     "traceback": [
      "\u001b[0;31m---------------------------------------------------------------------------\u001b[0m",
      "\u001b[0;31mTypeError\u001b[0m                                 Traceback (most recent call last)",
      "\u001b[0;32m<ipython-input-785-ce5d31ad17c6>\u001b[0m in \u001b[0;36m<module>\u001b[0;34m\u001b[0m\n\u001b[0;32m----> 1\u001b[0;31m \u001b[0mdcf_calculator\u001b[0m\u001b[0;34m(\u001b[0m\u001b[0mcompany\u001b[0m\u001b[0;34m,\u001b[0m\u001b[0mapi_key\u001b[0m\u001b[0;34m,\u001b[0m\u001b[0;36m0.084\u001b[0m\u001b[0;34m)\u001b[0m\u001b[0;34m\u001b[0m\u001b[0;34m\u001b[0m\u001b[0m\n\u001b[0m",
      "\u001b[0;32m<ipython-input-784-fd3cd91be247>\u001b[0m in \u001b[0;36mdcf_calculator\u001b[0;34m(company, api_key, rror)\u001b[0m\n\u001b[1;32m     18\u001b[0m     \u001b[0;32mfor\u001b[0m \u001b[0mitem\u001b[0m \u001b[0;32min\u001b[0m \u001b[0mincome_state\u001b[0m\u001b[0;34m:\u001b[0m\u001b[0;34m\u001b[0m\u001b[0;34m\u001b[0m\u001b[0m\n\u001b[1;32m     19\u001b[0m         \u001b[0;32mif\u001b[0m \u001b[0mcount\u001b[0m \u001b[0;34m<\u001b[0m \u001b[0;36m10\u001b[0m\u001b[0;34m:\u001b[0m\u001b[0;34m\u001b[0m\u001b[0;34m\u001b[0m\u001b[0m\n\u001b[0;32m---> 20\u001b[0;31m             \u001b[0mrevenue\u001b[0m\u001b[0;34m[\u001b[0m\u001b[0mitem\u001b[0m\u001b[0;34m[\u001b[0m\u001b[0;34m'date'\u001b[0m\u001b[0;34m]\u001b[0m\u001b[0;34m]\u001b[0m \u001b[0;34m=\u001b[0m \u001b[0mitem\u001b[0m\u001b[0;34m[\u001b[0m\u001b[0;34m'revenue'\u001b[0m\u001b[0;34m]\u001b[0m\u001b[0;34m\u001b[0m\u001b[0;34m\u001b[0m\u001b[0m\n\u001b[0m\u001b[1;32m     21\u001b[0m             \u001b[0minterest_expense\u001b[0m\u001b[0;34m[\u001b[0m\u001b[0mitem\u001b[0m\u001b[0;34m[\u001b[0m\u001b[0;34m'date'\u001b[0m\u001b[0;34m]\u001b[0m\u001b[0;34m]\u001b[0m \u001b[0;34m=\u001b[0m \u001b[0mitem\u001b[0m\u001b[0;34m[\u001b[0m\u001b[0;34m'interestExpense'\u001b[0m\u001b[0;34m]\u001b[0m\u001b[0;34m\u001b[0m\u001b[0;34m\u001b[0m\u001b[0m\n\u001b[1;32m     22\u001b[0m             \u001b[0mincome_before_tax\u001b[0m\u001b[0;34m[\u001b[0m\u001b[0mitem\u001b[0m\u001b[0;34m[\u001b[0m\u001b[0;34m'date'\u001b[0m\u001b[0;34m]\u001b[0m\u001b[0;34m]\u001b[0m \u001b[0;34m=\u001b[0m \u001b[0mitem\u001b[0m\u001b[0;34m[\u001b[0m\u001b[0;34m'incomeBeforeTax'\u001b[0m\u001b[0;34m]\u001b[0m\u001b[0;34m\u001b[0m\u001b[0;34m\u001b[0m\u001b[0m\n",
      "\u001b[0;31mTypeError\u001b[0m: string indices must be integers"
     ]
    }
   ],
   "source": [
    "dcf_calculator(company,api_key,0.084)"
   ]
  },
  {
   "cell_type": "markdown",
   "metadata": {},
   "source": [
    "# WACC Calculator "
   ]
  },
  {
   "cell_type": "code",
   "execution_count": null,
   "metadata": {},
   "outputs": [],
   "source": [
    "def get_wacc():\n",
    "    "
   ]
  }
 ],
 "metadata": {
  "kernelspec": {
   "display_name": "Python 3",
   "language": "python",
   "name": "python3"
  },
  "language_info": {
   "codemirror_mode": {
    "name": "ipython",
    "version": 3
   },
   "file_extension": ".py",
   "mimetype": "text/x-python",
   "name": "python",
   "nbconvert_exporter": "python",
   "pygments_lexer": "ipython3",
   "version": "3.7.6"
  }
 },
 "nbformat": 4,
 "nbformat_minor": 4
}
