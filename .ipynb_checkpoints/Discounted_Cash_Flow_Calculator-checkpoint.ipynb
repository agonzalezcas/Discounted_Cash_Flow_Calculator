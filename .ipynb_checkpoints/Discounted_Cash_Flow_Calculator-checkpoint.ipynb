{
 "cells": [
  {
   "cell_type": "code",
   "execution_count": 56,
   "metadata": {},
   "outputs": [],
   "source": [
    "import requests\n",
    "import pandas as pd\n",
    "import numpy as np"
   ]
  },
  {
   "cell_type": "code",
   "execution_count": 122,
   "metadata": {},
   "outputs": [],
   "source": [
    "class DCF_Calculator():\n",
    "    \n",
    "    def __init__(self,company,api_key):\n",
    "        self.company = company\n",
    "        self.api_key = api_key\n",
    "        self.revenue = {}\n",
    "        self.interest_expense = {}\n",
    "        self.income_before_tax = {}\n",
    "        self.income_tax_expense = {}\n",
    "        self.net_income = {}\n",
    "        \n",
    "    # Gets the Income Statement data that we need\n",
    "    def get_income_statement(self):\n",
    "        income_state = requests.get(f'https://financialmodelingprep.com/api/v3/income-statement/{self.company}?apikey={self.api_key}').json()\n",
    "        count = 0\n",
    "        for item in income_state:\n",
    "            if count < 10:\n",
    "                self.revenue[item['date']] = item['revenue']\n",
    "                self.interest_expense[item['date']] = item['interestExpense']\n",
    "                self.income_before_tax[item['date']] = item['incomeBeforeTax']\n",
    "                self.income_tax_expense[item['date']] = item['incomeTaxExpense']\n",
    "                self.net_income[item['date']]= item['netIncome']\n",
    "                count += 1\n",
    "        return 'Revenue:' ,self.revenue, 'Interest Expense:' ,self.interest_expense, 'Income Before Tax:' ,self.income_before_tax, 'Income Tax Expense:' ,self.income_tax_expense, 'Net Income:' ,self.net_income\n",
    "    \n",
    "     # Get the Cash Flow Statement that we need\n",
    "    def get_cash_flow_statement(self):\n",
    "\n",
    "        cash_flow = requests.get(f'https://financialmodelingprep.com/api/v3/cash-flow-statement/{self.company}?apikey={self.api_key}').json()\n",
    "\n",
    "        cf_from_operating_activities = {}\n",
    "        capital_expenditures = {}\n",
    "        free_cash_flow = {}\n",
    "        count = 0\n",
    "        for item in cash_flow:\n",
    "            if count < 10:\n",
    "                cf_from_operating_activities[item['date']] = item['operatingCashFlow']\n",
    "                capital_expenditures[item['date']] = item['capitalExpenditure']\n",
    "                free_cash_flow[item['date']] = item['freeCashFlow']\n",
    "                count += 1\n",
    "\n",
    "        return 'Cash Flow from Operating Activities:' ,cf_from_operating_activities, 'Capital Expenditures:' , capital_expenditures, 'Free Cash Flow:' ,free_cash_flow\n",
    "\n",
    "    # Gets the Balance Sheet Statement Data we need\n",
    "    def get_balance_sheet(self):\n",
    "    \n",
    "        balance_sheet  = requests.get(f'https://financialmodelingprep.com/api/v3/balance-sheet-statement/{self.company}?apikey={self.api_key}').json()\n",
    "\n",
    "        short_term_debt = {}\n",
    "        long_term_debt = {}\n",
    "        cash_and_short_term_invest = {}\n",
    "        count = 0\n",
    "        for item in balance_sheet:\n",
    "            if count < 10:\n",
    "                short_term_debt[item['date']] = item['totalCurrentLiabilities']\n",
    "                long_term_debt[item['date']] = item['longTermDebt']\n",
    "                cash_and_short_term_invest[item['date']] = item['cashAndShortTermInvestments']\n",
    "                count += 1\n",
    "\n",
    "        return 'Short Term Debt:' ,short_term_debt, 'Long Term Debt:' , long_term_debt, 'Cash and Short Term Investments:' ,cash_and_short_term_invest\n",
    "    # Calculates free cash flow to profit margin\n",
    "    def fcf_to_net_income(self):\n",
    "        \n",
    "        for k,v in self.free_cash_flow:\n",
    "            print(v)\n",
    "            "
   ]
  },
  {
   "cell_type": "code",
   "execution_count": 123,
   "metadata": {},
   "outputs": [],
   "source": [
    "company = 'WMT'\n",
    "api_key = '6032af0c940166a822afd34fc3259c71'"
   ]
  },
  {
   "cell_type": "code",
   "execution_count": 124,
   "metadata": {},
   "outputs": [],
   "source": [
    "walmart = DCF_Calculator(company,api_key)"
   ]
  },
  {
   "cell_type": "code",
   "execution_count": 127,
   "metadata": {},
   "outputs": [
    {
     "data": {
      "text/plain": [
       "{}"
      ]
     },
     "execution_count": 127,
     "metadata": {},
     "output_type": "execute_result"
    }
   ],
   "source": [
    "walmart.internal_revenue()"
   ]
  },
  {
   "cell_type": "code",
   "execution_count": 9,
   "metadata": {},
   "outputs": [],
   "source": []
  },
  {
   "cell_type": "markdown",
   "metadata": {},
   "source": [
    "# Get it working with no strucutre"
   ]
  },
  {
   "cell_type": "code",
   "execution_count": 131,
   "metadata": {},
   "outputs": [
    {
     "name": "stdout",
     "output_type": "stream",
     "text": [
      "14550000000\n",
      "17409000000\n",
      "18286000000\n",
      "21054000000\n",
      "16075000000\n",
      "16390000000\n",
      "10142000000\n",
      "12693000000\n",
      "10745000000\n",
      "10944000000\n"
     ]
    }
   ],
   "source": [
    "company = 'WMT'\n",
    "api_key = '6032af0c940166a822afd34fc3259c71'\n",
    "\n",
    "# Gets the Income Statement data that we need\n",
    "income_state = requests.get(f'https://financialmodelingprep.com/api/v3/income-statement/{company}?apikey={api_key}').json()\n",
    "revenue = {}\n",
    "interest_expense = {}\n",
    "income_before_tax = {}\n",
    "income_tax_expense = {}\n",
    "net_income = {}\n",
    "count = 0\n",
    "for item in income_state:\n",
    "    \n",
    "    if count < 10:\n",
    "        revenue[item['date']] = item['revenue']\n",
    "        interest_expense[item['date']] = item['interestExpense']\n",
    "        income_before_tax[item['date']] = item['incomeBeforeTax']\n",
    "        income_tax_expense[item['date']] = item['incomeTaxExpense']\n",
    "        net_income[item['date']]= item['netIncome']\n",
    "        count += 1\n",
    "# Get the Cash Flow Statement that we need\n",
    "\n",
    "cash_flow = requests.get(f'https://financialmodelingprep.com/api/v3/cash-flow-statement/{company}?apikey={api_key}').json()\n",
    "\n",
    "cf_from_operating_activities = {}\n",
    "capital_expenditures = {}\n",
    "free_cash_flow = {}\n",
    "count = 0\n",
    "for item in cash_flow:\n",
    "    if count < 10:\n",
    "        cf_from_operating_activities[item['date']] = item['operatingCashFlow']\n",
    "        capital_expenditures[item['date']] = item['capitalExpenditure']\n",
    "        free_cash_flow[item['date']] = item['freeCashFlow']\n",
    "        count += 1\n",
    "\n",
    "# Gets the Balance Sheet Statement Data we need\n",
    "\n",
    "balance_sheet  = requests.get(f'https://financialmodelingprep.com/api/v3/balance-sheet-statement/{company}?apikey={api_key}').json()\n",
    "\n",
    "short_term_debt = {}\n",
    "long_term_debt = {}\n",
    "cash_and_short_term_invest = {}\n",
    "count = 0\n",
    "for item in balance_sheet:\n",
    "    if count < 10:\n",
    "        short_term_debt[item['date']] = item['totalCurrentLiabilities']\n",
    "        long_term_debt[item['date']] = item['longTermDebt']\n",
    "        cash_and_short_term_invest[item['date']] = item['cashAndShortTermInvestments']\n",
    "        count += 1\n",
    "        \n",
    "# Calculates free cash flow to profit margin\n",
    "\n",
    "for k,v in free_cash_flow.items():\n",
    "    print(v)\n",
    "            "
   ]
  },
  {
   "cell_type": "code",
   "execution_count": null,
   "metadata": {},
   "outputs": [],
   "source": []
  },
  {
   "cell_type": "markdown",
   "metadata": {},
   "source": [
    "# Getting the Balance Sheet Data "
   ]
  },
  {
   "cell_type": "code",
   "execution_count": 22,
   "metadata": {},
   "outputs": [],
   "source": []
  },
  {
   "cell_type": "code",
   "execution_count": null,
   "metadata": {},
   "outputs": [],
   "source": []
  },
  {
   "cell_type": "code",
   "execution_count": 51,
   "metadata": {},
   "outputs": [],
   "source": []
  },
  {
   "cell_type": "code",
   "execution_count": null,
   "metadata": {},
   "outputs": [],
   "source": []
  },
  {
   "cell_type": "code",
   "execution_count": null,
   "metadata": {},
   "outputs": [],
   "source": []
  }
 ],
 "metadata": {
  "kernelspec": {
   "display_name": "Python 3",
   "language": "python",
   "name": "python3"
  },
  "language_info": {
   "codemirror_mode": {
    "name": "ipython",
    "version": 3
   },
   "file_extension": ".py",
   "mimetype": "text/x-python",
   "name": "python",
   "nbconvert_exporter": "python",
   "pygments_lexer": "ipython3",
   "version": "3.7.6"
  }
 },
 "nbformat": 4,
 "nbformat_minor": 4
}
